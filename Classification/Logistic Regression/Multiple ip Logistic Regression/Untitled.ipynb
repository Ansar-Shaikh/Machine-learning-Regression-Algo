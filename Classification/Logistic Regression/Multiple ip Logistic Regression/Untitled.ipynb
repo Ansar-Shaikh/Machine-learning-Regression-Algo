{
 "cells": [
  {
   "cell_type": "code",
   "execution_count": null,
   "id": "624b0416-d27b-466f-9465-91a4d6e1316a",
   "metadata": {},
   "outputs": [],
   "source": []
  }
 ],
 "metadata": {
  "kernelspec": {
   "display_name": "Python 3 (ipykernel)",
   "language": "python",
   "name": "python3"
  },
  "language_info": {
   "codemirror_mode": {
    "name": "ipython",
    "version": 3
   },
   "file_extension": ".py",
   "mimetype": "text/x-python",
   "name": "python",
   "nbconvert_exporter": "python",
   "pygments_lexer": "ipython3",
   "version": "3.13.0"
  }
 },
 "nbformat": 4,
 "nbformat_minor": 5
}
